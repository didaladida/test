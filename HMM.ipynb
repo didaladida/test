{
 "cells": [
  {
   "cell_type": "code",
   "execution_count": 118,
   "metadata": {
    "collapsed": false
   },
   "outputs": [
    {
     "name": "stdout",
     "output_type": "stream",
     "text": [
      "近似算法\n",
      "计算前向后向概率矩阵\n",
      "[[ 0.1 ]\n",
      " [ 0.16]\n",
      " [ 0.28]]\n",
      "[[ 0.077 ]\n",
      " [ 0.1104]\n",
      " [ 0.0606]]\n",
      "[[ 0.04187 ]\n",
      " [ 0.035512]\n",
      " [ 0.052836]]\n",
      "[[ 0.54]\n",
      " [ 0.49]\n",
      " [ 0.57]]\n",
      "[[ 0.2451]\n",
      " [ 0.2622]\n",
      " [ 0.2277]]\n",
      "计算路径\n",
      "[[3 2 3]]\n",
      "viterbi\n"
     ]
    },
    {
     "data": {
      "text/plain": [
       "(0.014699999999999998, array([ 3.,  3.,  3.]))"
      ]
     },
     "execution_count": 118,
     "metadata": {},
     "output_type": "execute_result"
    }
   ],
   "source": [
    "# -*- encoding:utf-8 -*-\n",
    "import numpy as np\n",
    "\"\"\"\n",
    "概率的计算\n",
    "\"\"\"\n",
    "\n",
    "\n",
    "def calc_prob_O_pro(A, B, pi, O):\n",
    "    \"\"\"\n",
    "    给定HMM参数 lambda=(A,B,calc_prob_O_pro(A,B,pi,O)pi) 计算状态序列 O的概率  前向算法\n",
    "    \"\"\"\n",
    "    # dp[i][t] 时刻t处在状态i 且表表现为希望的子序列的概率\n",
    "    dp = np.empty((A.shape[0], O.shape[0]))  # dp数组\n",
    "    AMat = np.mat(A)\n",
    "    BMat = np.mat(B)\n",
    "    piMat = np.mat(pi)\n",
    "    OMat = np.mat(O)\n",
    "    dpMat = np.mat(dp)\n",
    "    # 设置初始值\n",
    "    dpMat[:, 0] = np.multiply(piMat.T, BMat[:, O[0]])\n",
    "    print dpMat[:, 0]\n",
    "    for i in range(1, O.shape[0]):\n",
    "        stats_dis = dpMat[:, i - 1].T * AMat\n",
    "        dpMat[:, i] = np.multiply(stats_dis.T, BMat[:, O[i]])\n",
    "        print dpMat[:, i]\n",
    "    # dp dpMat 是同一个数据源\n",
    "    # so  the  same\n",
    "    # return np.sum(dp[:,-1])\n",
    "    return np.sum(dpMat[:, -1]), dpMat\n",
    "\n",
    "\n",
    "def calc_prob_O_back(A, B, pi, O):\n",
    "    \"\"\"\n",
    "    给定HMM参数 lambda=(A,B,pi) 计算状态序列 O的概率  后向算法\n",
    "    \"\"\"\n",
    "    T = O.shape[0]\n",
    "    n = A.shape[0]\n",
    "    dp = np.empty((n, T))  # dp数组\n",
    "    AMat = np.mat(A)\n",
    "    BMat = np.mat(B)\n",
    "    piMat = np.mat(pi)\n",
    "    OMat = np.mat(O)\n",
    "    dpMat = np.mat(dp)\n",
    "    # 初始化\n",
    "    dpMat[:, -1] = 1\n",
    "    for t in range(T - 2, -1, -1):\n",
    "        dpMat[:, t] = AMat * np.multiply(BMat[:, O[t + 1]], dpMat[:, t + 1])\n",
    "        print dpMat[:, t]\n",
    "    ans = np.multiply(dpMat[:, 0], piMat.T)\n",
    "    ans = np.multiply(ans, BMat[:, O[0]])\n",
    "    # 错误  第三个参数未相乘\n",
    "    # ans=np.multiply(dpMat[:,0],piMat.T,BMat[:,O[0]])\n",
    "    return np.sum(ans), dpMat\n",
    "\n",
    "\n",
    "# test  from  统计机器学习\n",
    "# x,a= calc_prob_O_pro(np.array([[0.5,0.2,0.3],[0.3,0.5,0.2],[0.2,0.3,0.5]]),np.array([[0.5,0.5],[0.4,0.6],[0.7,0.3]]),\n",
    "#           np.array([0.2,0.4,0.4]),np.array([0,1,0]))\n",
    "# y,b= calc_prob_O_back(np.array([[0.5,0.2,0.3],[0.3,0.5,0.2],[0.2,0.3,0.5]]),np.array([[0.5,0.5],[0.4,0.6],[0.7,0.3]]),\n",
    "#           np.array([0.2,0.4,0.4]),np.array([0,1,0]))\n",
    "# np.sum(np.multiply(a[:,0],b[:,0]))\n",
    "\n",
    "\"\"\"\n",
    "预测的近似算法\n",
    "\"\"\"\n",
    "\n",
    "\n",
    "def prox(A, B, pi, O):\n",
    "    print u'计算前向后向概率矩阵'\n",
    "    p, pre = calc_prob_O_pro(A, B, pi, O)\n",
    "    p, back = calc_prob_O_back(A, B, pi, O)\n",
    "    T = O.shape[0]\n",
    "    print u'计算路径'\n",
    "    tmp = np.multiply(pre, back)\n",
    "    tmp = np.argmax(tmp, axis=0)   \n",
    "    tmp += 1\n",
    "    path = np.array(tmp)\n",
    "    return path\n",
    "\n",
    "\n",
    "\"\"\"\n",
    "HMM预测算法\n",
    "\"\"\"\n",
    "\n",
    "\n",
    "def viterbi(A, B, pi, O):\n",
    "    \"\"\"\n",
    "    维特比预测状态序列算法\n",
    "    \"\"\"\n",
    "    AMat = np.mat(A)\n",
    "    BMat = np.mat(B)\n",
    "    piMat = np.mat(pi)\n",
    "    T = O.shape[0]\n",
    "    N = A.shape[0]\n",
    "    sigma = np.empty((N, T))\n",
    "    fi = np.empty((N, T))\n",
    "    sigmaMat = np.mat(sigma)\n",
    "    fiMat = np.mat(fi)\n",
    "    # 初始化\n",
    "    sigmaMat[:, 0] = np.multiply(piMat.T, BMat[:, O[0]])\n",
    "    # print sigmaMat[:,0]\n",
    "    fiMat[:, 0] = 0\n",
    "    for t in range(1, T):\n",
    "        # print AMat\n",
    "        # print sigmaMat[:,t-1]\n",
    "        tmp = np.multiply(AMat, sigmaMat[:, t - 1])\n",
    "        # print tmp\n",
    "        # print np.argmax(tmp,axis=0)+1\n",
    "        fiMat[:, t] = np.argmax(tmp, axis=0).T\n",
    "        tmp = np.max(tmp, axis=0)\n",
    "        sigmaMat[:, t] = np.multiply(tmp.T, BMat[:, O[t]])\n",
    "        # print sigmaMat[:,t]\n",
    "\n",
    "    P_star = np.max(sigmaMat[:, -1])  # 最有路径的概率\n",
    "    stat = np.argmax(sigmaMat[:, -1])\n",
    "    path = np.empty(T)\n",
    "    path[T - 1] = stat\n",
    "    for t in range(T - 1, 0, -1):\n",
    "        path[t - 1] = (fiMat[stat, t])\n",
    "        stat = fiMat[stat, t]\n",
    "    # 计算过程中状态以0开始，书中以1开始\n",
    "    path += 1\n",
    "    return P_star, path\n",
    "\n",
    "\n",
    "print u'近似算法'\n",
    "print prox(np.array([[0.5, 0.2, 0.3], [0.3, 0.5, 0.2], [0.2, 0.3, 0.5]]), np.array([[0.5, 0.5], [0.4, 0.6], [0.7, 0.3]]),\n",
    "     np.array([0.2, 0.4, 0.4]), np.array([0, 1, 0]))\n",
    "print u'viterbi'\n",
    "viterbi(np.array([[0.5, 0.2, 0.3], [0.3, 0.5, 0.2], [0.2, 0.3, 0.5]]), np.array([[0.5, 0.5], [0.4, 0.6], [0.7, 0.3]]),\n",
    "        np.array([0.2, 0.4, 0.4]), np.array([0, 1, 0]))\n"
   ]
  },
  {
   "cell_type": "code",
   "execution_count": 64,
   "metadata": {
    "collapsed": false
   },
   "outputs": [
    {
     "data": {
      "text/plain": [
       "6"
      ]
     },
     "execution_count": 64,
     "metadata": {},
     "output_type": "execute_result"
    }
   ],
   "source": []
  },
  {
   "cell_type": "code",
   "execution_count": 92,
   "metadata": {
    "collapsed": false
   },
   "outputs": [
    {
     "data": {
      "text/plain": [
       "1"
      ]
     },
     "execution_count": 92,
     "metadata": {},
     "output_type": "execute_result"
    }
   ],
   "source": []
  }
 ],
 "metadata": {
  "kernelspec": {
   "display_name": "Python 2",
   "language": "python",
   "name": "python2"
  },
  "language_info": {
   "codemirror_mode": {
    "name": "ipython",
    "version": 2
   },
   "file_extension": ".py",
   "mimetype": "text/x-python",
   "name": "python",
   "nbconvert_exporter": "python",
   "pygments_lexer": "ipython2",
   "version": "2.7.11"
  }
 },
 "nbformat": 4,
 "nbformat_minor": 0
}
