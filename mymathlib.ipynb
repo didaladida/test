{
 "cells": [
  {
   "cell_type": "code",
   "execution_count": 3,
   "metadata": {
    "collapsed": false
   },
   "outputs": [
    {
     "data": {
      "text/plain": [
       "150.20000000000005"
      ]
     },
     "execution_count": 3,
     "metadata": {},
     "output_type": "execute_result"
    }
   ],
   "source": [
    "import numpy as np\n",
    "\n",
    "def math_var(X):\n",
    "    X=np.float64(X)\n",
    "    X2=X*X\n",
    "    EX_2=(sum(X)/X.shape[0])**2\n",
    "    E_X2=sum(X2)/X2.shape[0]\n",
    "    return E_X2-EX_2\n",
    "\n",
    "def math_cov(x,y):\n",
    "    x=np.float64(x)\n",
    "    y=np.float64(y)\n",
    "    xy=x*y\n",
    "    Ex=sum(x)/x.shape[0]\n",
    "    Ey=sum(y)/y.shape[0]\n",
    "    Exy=sum(xy)/xy.shape[0]\n",
    "    return Exy-Ex*Ey\n",
    "\n",
    "def math_cov_vector(X,Y):\n",
    "    \n",
    "\n",
    "#math_var(np.array([13,23,12,44,55]))\n",
    "math_cov(np.array([10,24,33,54,10]),np.array([5,20,40,80,100]) )\n"
   ]
  },
  {
   "cell_type": "code",
   "execution_count": 24,
   "metadata": {
    "collapsed": false
   },
   "outputs": [
    {
     "name": "stdout",
     "output_type": "stream",
     "text": [
      "130.3 16717.49 258.6\n",
      "1.0 -1.0 0.0\n",
      "0.0\n"
     ]
    },
    {
     "data": {
      "text/plain": [
       "(1.0, -1.0)"
      ]
     },
     "execution_count": 24,
     "metadata": {},
     "output_type": "execute_result"
    }
   ],
   "source": [
    "# -*- encoding:utf-8 -*-\n",
    "import math\n",
    "def y(x):\n",
    "    return x**2-2*x\n",
    "\n",
    "def y_d(x):\n",
    "    return 2*x-2\n",
    "\n",
    "def gradient_descent(s):\n",
    "    \"\"\"\n",
    "    梯度下降方法\n",
    "    \"\"\" \n",
    "    lamda=0.5\n",
    "    v_min=0\n",
    "    x_min=s\n",
    "    for T in range(1,100):\n",
    "        \n",
    "        y_t=y(s)\n",
    "        y_d_t=y_d(s)\n",
    "        print s,y_t,y_d_t\n",
    "        if abs(y_d_t) < 0.0001:\n",
    "            x_min=s\n",
    "            v_min=y_t\n",
    "            print abs(y_d_t)\n",
    "            break\n",
    "        else:\n",
    "            x_min=s\n",
    "            v_min=y_t\n",
    "            s=s+lamda/T*(0-y_d_t)\n",
    "    return x_min,v_min\n",
    "gradient_descent(130.3)"
   ]
  },
  {
   "cell_type": "code",
   "execution_count": 217,
   "metadata": {
    "collapsed": false,
    "scrolled": true
   },
   "outputs": [
    {
     "data": {
      "text/plain": [
       "[<matplotlib.lines.Line2D at 0xf799898>]"
      ]
     },
     "execution_count": 217,
     "metadata": {},
     "output_type": "execute_result"
    },
    {
     "data": {
      "image/png": "[encoded data removed]",
      "text/plain": [
       "<matplotlib.figure.Figure at 0x9d3ecf8>"
      ]
     },
     "metadata": {},
     "output_type": "display_data"
    }
   ],
   "source": [
    "# -*- encopding:utf-8 -*-\n",
    "\"\"\"\n",
    "多项式拟合的例子\n",
    "\"\"\"\n",
    "%matplotlib inline\n",
    "import numpy as np\n",
    "import math\n",
    "import random\n",
    "\n",
    "def get_sample(n,sigma):\n",
    "    \"\"\"\n",
    "    n输出的样例数,sigma高斯方差\n",
    "    \"\"\"\n",
    "    xx=[]\n",
    "    yy=[]\n",
    "    r_yy=[]\n",
    "    for x in range(1,n):\n",
    "        x=float(x)/n*6.28\n",
    "        y=math.sin(x)+random.gauss(0,sigma)\n",
    "        xx.append(x)\n",
    "        yy.append(y)\n",
    "        r_yy.append(math.sin(x))\n",
    "    xx=np.array(xx)\n",
    "    yy=np.array(yy)\n",
    "    r_yy=np.array(r_yy)\n",
    "    return xx,yy,r_yy\n",
    "\n",
    "def get_X(x,M):\n",
    "    X=np.empty((M,x.shape[0]))\n",
    "    #print X\n",
    "    X[0]=1\n",
    "    X[1]=x\n",
    "    for m in range(2,M):\n",
    "        X[m]=x**m\n",
    "    #print X\n",
    "    X=np.transpose(X)\n",
    "    #print X\n",
    "    return X\n",
    "    \n",
    "    \n",
    "\n",
    "def get_Err_squre(X,w,y):\n",
    "    \"\"\"\n",
    "    计算均方误差\n",
    "    \"\"\"\n",
    "    err=np.dot(X,w.reshape(w.shape[0],1))-y.reshape(y.shape[0],1)\n",
    "    #print err\n",
    "    err_2=err*err\n",
    "    #print err_2\n",
    "    return 0.5*sum(err_2)\n",
    "\n",
    "def get_Err_dev(X,w,y):\n",
    "    err=np.dot(X,w.reshape(w.shape[0],1))-y.reshape(y.shape[0],1)\n",
    "    #print X\n",
    "    #print err\n",
    "    #print X*err\n",
    "    return np.sum(X*err,axis=0)\n",
    "\n",
    "\n",
    "def gredient(x,y):\n",
    "    \n",
    "    X=get_X(x,2)\n",
    "    W_k=ones(X.shape[1])\n",
    "    W_k=W_k*0.01\n",
    "    MAX_ITR = 100\n",
    "    lamda=0.1\n",
    "    ret_W=[]\n",
    "    mse=0\n",
    "    for i in range(1,MAX_ITR):\n",
    "        print u'迭代次数',i\n",
    "        print X\n",
    "        print W_k\n",
    "        print y\n",
    "        Err=get_Err_squre(X,W_k,y)\n",
    "        Err_dev=get_Err_dev(X,W_k,y)# 求导数\n",
    "        print u'导数',Err_dev\n",
    "        print u'误差',Err\n",
    "        mse=Err\n",
    "        W_k =W_k-lamda/i*Err_dev-0.5*W_k\n",
    "        #print W_k\n",
    "        predict_y=np.dot(X,W_k.reshape(W_k.shape[0],1))\n",
    "        #print predict_y\n",
    "        if(Err<0.0001): #判断误差\n",
    "            break\n",
    "    else:\n",
    "        print 'error'\n",
    "    predict_y=predict_y.reshape(predict_y.shape[0])  \n",
    "    return predict_y,mse,Err\n",
    "\n",
    "def standRegres(xArr,yArr):\n",
    "    \"\"\"\n",
    "    xAr为二维数组\n",
    "    yArr为一维数组\n",
    "    标准线性回归\n",
    "    返回参数ws和预测值一维数组\n",
    "    \"\"\"\n",
    "    xMat=np.mat(xArr)\n",
    "    yArr=yArr.reshape(yArr.shape[0],1)\n",
    "    yMat=np.mat(yArr)\n",
    "    xTx=xMat.T*xMat\n",
    "    if np.linalg.det(xTx)==0.0:\n",
    "        print 'singular'\n",
    "        return \n",
    "    ws=xTx.I*(xMat.T*yMat)\n",
    "    y_p=np.array(xMat*ws)\n",
    "    y_p=y_p.reshape(y_p.shape[0])\n",
    "    return ws,y_p\n",
    "            \n",
    "def lwlr(testPoint, xArr,yArr,k=1.0):\n",
    "    # n*M M为特征数量，n为样本点数\n",
    "    xMat=np.mat(xArr)\n",
    "    # 转换 n*1\n",
    "    yMat=np.mat(yArr).T\n",
    "    m=xMat.shape[0] # 样本数\n",
    "    weights=np.mat(np.eye(m))\n",
    "    for j in range(m):\n",
    "        diffMat=testPoint-xMat[j,:]\n",
    "        #print diffMat\n",
    "        weights[j,j]=exp(diffMat*diffMat.T/(-2.0*k**2))\n",
    "    #print weights\n",
    "    xTx=xMat.T*(weights*xMat)\n",
    "    if np.linalg.det(xTx)==0.0:\n",
    "        print u'奇异矩阵，做不到。。。'\n",
    "        #return\n",
    "        xTx=xTx+0.001*np.eye(xTx.shape[0])\n",
    "    ws=xTx.I*(xMat.T*(weights*yMat))\n",
    "    return testPoint*ws\n",
    "\n",
    "def lwlrTest(testArr,xArr,yArr,k=1.0):\n",
    "    m=testArr.shape[0]\n",
    "    yHat=zeros(m)\n",
    "    for i in range(m):\n",
    "        yHat[i]=lwlr(testArr[i],xArr,yArr,k)\n",
    "    return yHat\n",
    "\n",
    "   \n",
    "\n",
    "x,y,r_y=get_sample(100,0.1)\n",
    "#p_y,mse,Err=gredient(x,y)\n",
    "X=get_X(x,2)\n",
    "ws,y_p=standRegres(X,y)\n",
    "y_p_local=lwlrTest(X,X,y,0.1)\n",
    "#print p_y.shape\n",
    "fig=plt.gcf()\n",
    "ax1=fig.add_subplot(2,2,1)\n",
    "ax1.plot(x,r_y,'k--')\n",
    "ax1.plot(x,y)\n",
    "ax2=fig.add_subplot(2,2,2)\n",
    "ax2.plot(x,r_y,'k--')\n",
    "ax2.plot(x,y)\n",
    "ax2.plot(x,y_p,'r-')\n",
    "ax3=fig.add_subplot(2,2,3)\n",
    "ax3.plot(x,r_y,'k--')\n",
    "ax3.plot(x,y)\n",
    "ax3.plot(x,y_p_local,'r-')\n",
    "#print get_X(np.array([1.0,2.0]),5)\n",
    "#print get_Err_squre(np.array([[1,1],[1,2]]),np.array([1,1]),np.array([1,4]))\n",
    "#print get_Err_dev(np.array([[1,1],[1,2]]),np.array([1,1]),np.array([1,4]))"
   ]
  },
  {
   "cell_type": "code",
   "execution_count": 208,
   "metadata": {
    "collapsed": false
   },
   "outputs": [
    {
     "name": "stdout",
     "output_type": "stream",
     "text": [
      "Populating the interactive namespace from numpy and matplotlib\n"
     ]
    }
   ],
   "source": [
    "%pylab inline\n"
   ]
  },
  {
   "cell_type": "code",
   "execution_count": 184,
   "metadata": {
    "collapsed": false
   },
   "outputs": [
    {
     "name": "stdout",
     "output_type": "stream",
     "text": [
      "(2L, 1L)\n"
     ]
    },
    {
     "data": {
      "text/plain": [
       "(10L, 10L)"
      ]
     },
     "execution_count": 184,
     "metadata": {},
     "output_type": "execute_result"
    }
   ],
   "source": [
    "y=np.array([1,2])\n",
    "y=np.mat(y).T\n",
    "print y.shape\n",
    "eye((10)).shape"
   ]
  },
  {
   "cell_type": "code",
   "execution_count": 78,
   "metadata": {
    "collapsed": false
   },
   "outputs": [
    {
     "name": "stdout",
     "output_type": "stream",
     "text": [
      "[[1 2]\n",
      " [3 4]]\n",
      "[[2]\n",
      " [3]]\n"
     ]
    },
    {
     "data": {
      "text/plain": [
       "array([[ 2,  4],\n",
       "       [ 9, 12]])"
      ]
     },
     "execution_count": 78,
     "metadata": {},
     "output_type": "execute_result"
    }
   ],
   "source": [
    " \n",
    "a = np.array([[1, 2], [3, 4]])\n",
    "b = np.array([2,3])\n",
    "\n",
    "b=b.reshape(2,1)\n",
    "print a\n",
    "print b\n",
    "np.dot(a, b)\n",
    "a*b"
   ]
  },
  {
   "cell_type": "code",
   "execution_count": 72,
   "metadata": {
    "collapsed": false
   },
   "outputs": [
    {
     "ename": "ValueError",
     "evalue": "shapes (3,3) and (2,) not aligned: 3 (dim 1) != 2 (dim 0)",
     "output_type": "error",
     "traceback": [
      "\u001b[1;31m---------------------------------------------------------------------------\u001b[0m",
      "\u001b[1;31mValueError\u001b[0m                                Traceback (most recent call last)",
      "\u001b[1;32m<ipython-input-72-a13ab81434fc>\u001b[0m in \u001b[0;36m<module>\u001b[1;34m()\u001b[0m\n\u001b[0;32m      2\u001b[0m \u001b[0mx2\u001b[0m \u001b[1;33m=\u001b[0m \u001b[0mnp\u001b[0m\u001b[1;33m.\u001b[0m\u001b[0marange\u001b[0m\u001b[1;33m(\u001b[0m\u001b[1;36m2\u001b[0m\u001b[1;33m)\u001b[0m\u001b[1;33m\u001b[0m\u001b[0m\n\u001b[0;32m      3\u001b[0m \u001b[1;33m\u001b[0m\u001b[0m\n\u001b[1;32m----> 4\u001b[1;33m \u001b[0mnp\u001b[0m\u001b[1;33m.\u001b[0m\u001b[0mdot\u001b[0m\u001b[1;33m(\u001b[0m\u001b[0mx1\u001b[0m\u001b[1;33m,\u001b[0m \u001b[0mx2\u001b[0m\u001b[1;33m)\u001b[0m\u001b[1;33m\u001b[0m\u001b[0m\n\u001b[0m\u001b[0;32m      5\u001b[0m \u001b[1;32mprint\u001b[0m \u001b[0mx1\u001b[0m\u001b[1;33m\u001b[0m\u001b[0m\n\u001b[0;32m      6\u001b[0m \u001b[1;32mprint\u001b[0m \u001b[0mx2\u001b[0m\u001b[1;33m\u001b[0m\u001b[0m\n",
      "\u001b[1;31mValueError\u001b[0m: shapes (3,3) and (2,) not aligned: 3 (dim 1) != 2 (dim 0)"
     ]
    }
   ],
   "source": []
  }
 ],
 "metadata": {
  "kernelspec": {
   "display_name": "Python 2",
   "language": "python",
   "name": "python2"
  },
  "language_info": {
   "codemirror_mode": {
    "name": "ipython",
    "version": 2
   },
   "file_extension": ".py",
   "mimetype": "text/x-python",
   "name": "python",
   "nbconvert_exporter": "python",
   "pygments_lexer": "ipython2",
   "version": "2.7.11"
  }
 },
 "nbformat": 4,
 "nbformat_minor": 0
}
