{
 "cells": [
  {
   "cell_type": "code",
   "execution_count": 10,
   "metadata": {
    "collapsed": false
   },
   "outputs": [
    {
     "name": "stdout",
     "output_type": "stream",
     "text": [
      "[[1 2 3]\n",
      " [1 3 4]]\n",
      "[[10 20 30]\n",
      " [10 30 40]]\n",
      "[[2 4 6]\n",
      " [2 6 8]]\n"
     ]
    }
   ],
   "source": [
    "import numpy as np\n",
    "data=np.array([[1,2,3],[1,3,4]])\n",
    "print data\n",
    "print data*10\n",
    "print data+data"
   ]
  },
  {
   "cell_type": "code",
   "execution_count": 17,
   "metadata": {
    "collapsed": false
   },
   "outputs": [
    {
     "name": "stdout",
     "output_type": "stream",
     "text": [
      "(2L, 3L)\n",
      "int32\n",
      "<type 'numpy.dtype'>\n"
     ]
    }
   ],
   "source": [
    "print data.shape\n",
    "print data.dtype\n",
    "print type(data.dtype)"
   ]
  },
  {
   "cell_type": "code",
   "execution_count": 26,
   "metadata": {
    "collapsed": false
   },
   "outputs": [
    {
     "name": "stdout",
     "output_type": "stream",
     "text": [
      "[[ 0.  0.  0.]\n",
      " [ 0.  0.  0.]\n",
      " [ 0.  0.  0.]]\n",
      "[[[  2.53205328e-316   1.91023328e-316]\n",
      "  [  1.53965954e-316   1.53965954e-316]]\n",
      "\n",
      " [[  1.53965954e-316   1.53972594e-316]\n",
      "  [  1.53972120e-316   3.27308016e-316]]]\n"
     ]
    }
   ],
   "source": [
    "print np.zeros((3,3))\n",
    "print np.empty((2,2,2))"
   ]
  },
  {
   "cell_type": "code",
   "execution_count": 63,
   "metadata": {
    "collapsed": false
   },
   "outputs": [
    {
     "name": "stdout",
     "output_type": "stream",
     "text": [
      "[0, 1, 2, 3, 4, 5, 6, 7, 8, 9]\n",
      "(0, 1, 2, 3, 4, 5, 6, 7, 8, 9)\n",
      "[[ 1.  1.]\n",
      " [ 1.  1.]]\n",
      "[[ 0.  0.  0.  0.  0.  0.  0.  0.  0.  0.]\n",
      " [ 0.  0.  0.  0.  0.  0.  0.  0.  0.  0.]\n",
      " [ 1.  0.  0.  0.  0.  0.  0.  0.  0.  0.]\n",
      " [ 0.  1.  0.  0.  0.  0.  0.  0.  0.  0.]\n",
      " [ 0.  0.  1.  0.  0.  0.  0.  0.  0.  0.]\n",
      " [ 0.  0.  0.  1.  0.  0.  0.  0.  0.  0.]\n",
      " [ 0.  0.  0.  0.  1.  0.  0.  0.  0.  0.]\n",
      " [ 0.  0.  0.  0.  0.  1.  0.  0.  0.  0.]\n",
      " [ 0.  0.  0.  0.  0.  0.  1.  0.  0.  0.]\n",
      " [ 0.  0.  0.  0.  0.  0.  0.  1.  0.  0.]]\n",
      "[[ 0.  0.]\n",
      " [ 0.  0.]]\n",
      "[[ 0.  0.]\n",
      " [ 0.  0.]]\n"
     ]
    }
   ],
   "source": [
    "print range(10)\n",
    "print tuple(np.arange(10))\n",
    "print np.ones((2,2))\n",
    "print np.eye(10,10,-2)\n",
    "print np.zeros((2,2),dtype=np.float64)\n",
    "print np.empty((2,2))"
   ]
  },
  {
   "cell_type": "code",
   "execution_count": 71,
   "metadata": {
    "collapsed": false
   },
   "outputs": [
    {
     "name": "stdout",
     "output_type": "stream",
     "text": [
      "['1' '2' '3']\n",
      "[ 1.  2.  3.]\n"
     ]
    }
   ],
   "source": [
    "# 字符串类型\n",
    "ns=np.array(['1','2','3'],dtype=np.string_)\n",
    "print ns\n",
    "nd=ns.astype(np.float64)\n",
    "print nd"
   ]
  },
  {
   "cell_type": "code",
   "execution_count": 84,
   "metadata": {
    "collapsed": false
   },
   "outputs": [
    {
     "name": "stdout",
     "output_type": "stream",
     "text": [
      "[[ 1.  2.  3.]\n",
      " [ 4.  5.  6.]]\n",
      "[[  1.   4.   9.]\n",
      " [ 16.  25.  36.]]\n",
      "[[ 0.  0.  0.]\n",
      " [ 0.  0.  0.]]\n",
      "[[ 1.          0.5         0.33333333]\n",
      " [ 0.25        0.2         0.16666667]]\n",
      "[[  1.   4.   9.]\n",
      " [ 16.  25.  36.]]\n"
     ]
    }
   ],
   "source": [
    "# 运算\n",
    "arr=np.array([[1.,2.,3.],[4.,5.,6.]])\n",
    "print arr\n",
    "print arr*arr\n",
    "print arr-arr\n",
    "print 1/arr\n",
    "print arr**2"
   ]
  },
  {
   "cell_type": "code",
   "execution_count": 93,
   "metadata": {
    "collapsed": false
   },
   "outputs": [
    {
     "name": "stdout",
     "output_type": "stream",
     "text": [
      "[0 1 2 3 4 5 6 7 8 9]\n",
      "5\n",
      "[5 6 7]\n",
      "[ 0  1  2  3  4 10 10 10  8  9]\n"
     ]
    }
   ],
   "source": [
    "# 索引\n",
    "arr=np.arange(10)\n",
    "print arr\n",
    "print arr[5]\n",
    "print arr[5:8]\n",
    "x=arr[5:8]\n",
    "x[:]=10\n",
    "print arr"
   ]
  },
  {
   "cell_type": "code",
   "execution_count": 111,
   "metadata": {
    "collapsed": false
   },
   "outputs": [
    {
     "name": "stdout",
     "output_type": "stream",
     "text": [
      "[7 8 9]\n",
      "8\n",
      "3\n",
      "[[5]\n",
      " [8]]\n",
      "[[1 2 3]]\n"
     ]
    }
   ],
   "source": [
    "    arr2d=np.array([[1,2,3],[4,5,6],[7,8,9]])\n",
    "    print arr2d[2]\n",
    "    print arr2d[2][1]\n",
    "    print arr2d[0,2]\n",
    "    print arr2d[1:3,1:2]\n",
    "    print arr2d[0:1][:]"
   ]
  },
  {
   "cell_type": "code",
   "execution_count": 147,
   "metadata": {
    "collapsed": false
   },
   "outputs": [
    {
     "name": "stdout",
     "output_type": "stream",
     "text": [
      "[[-1.25332104  1.54960087  0.0974034   1.24471227]\n",
      " [-1.67063247  0.79486996  0.38035218  0.72105214]\n",
      " [-0.11221771  0.94772605  0.4169332  -0.58159341]\n",
      " [-1.20228431  0.34537839 -0.09125896 -0.27148793]\n",
      " [-1.01237957  1.69732344  1.62262687  0.94590468]\n",
      " [-0.24522291 -1.6341419  -1.39734179  0.89075768]\n",
      " [ 0.24941734  0.29686696 -0.3709536   0.13513312]]\n",
      "[[ 1.54960087  0.0974034 ]\n",
      " [ 0.34537839 -0.09125896]\n",
      " [ 0.29686696 -0.3709536 ]]\n"
     ]
    }
   ],
   "source": [
    "names=np.array(['Bob','Joe','Will','Bob','Joe','Joe','Bob'])\n",
    "cols=[1,2,3,4]\n",
    "data = np.random.randn(7,4)\n",
    "print data\n",
    "x=data[names=='Bob',1:3]\n",
    "print x\n"
   ]
  },
  {
   "cell_type": "code",
   "execution_count": 160,
   "metadata": {
    "collapsed": false,
    "scrolled": true
   },
   "outputs": [
    {
     "name": "stdout",
     "output_type": "stream",
     "text": [
      "[[ 0.  0.  0.  0.  0.  0.  0.  0.]\n",
      " [ 1.  1.  1.  1.  1.  1.  1.  1.]\n",
      " [ 2.  2.  2.  2.  2.  2.  2.  2.]\n",
      " [ 3.  3.  3.  3.  3.  3.  3.  3.]\n",
      " [ 4.  4.  4.  4.  4.  4.  4.  4.]\n",
      " [ 5.  5.  5.  5.  5.  5.  5.  5.]\n",
      " [ 6.  6.  6.  6.  6.  6.  6.  6.]\n",
      " [ 7.  7.  7.  7.  7.  7.  7.  7.]]\n",
      "[[ 1.  1.  1.  1.]\n",
      " [ 5.  5.  5.  5.]\n",
      " [ 7.  7.  7.  7.]\n",
      " [ 2.  2.  2.  2.]]\n",
      "[[ 1.  1.  1.  1.]\n",
      " [ 5.  5.  5.  5.]\n",
      " [ 7.  7.  7.  7.]\n",
      " [ 2.  2.  2.  2.]]\n"
     ]
    }
   ],
   "source": [
    "arr=np.empty((8,8))\n",
    "#print arr\n",
    "for i in range(8):\n",
    "    arr[i]=i\n",
    "print arr\n",
    "#print arr[[-1,-2,-3]]\n",
    "print arr[[1,5,7,2]][:,[2,3,4,5]]\n",
    "print arr[np.ix_([1,5,7,2],[2,3,4,5])]\n"
   ]
  },
  {
   "cell_type": "code",
   "execution_count": 161,
   "metadata": {
    "collapsed": true
   },
   "outputs": [],
   "source": []
  },
  {
   "cell_type": "code",
   "execution_count": 190,
   "metadata": {
    "collapsed": false
   },
   "outputs": [
    {
     "name": "stdout",
     "output_type": "stream",
     "text": [
      "Populating the interactive namespace from numpy and matplotlib\n"
     ]
    },
    {
     "data": {
      "text/plain": [
       "[<matplotlib.lines.Line2D at 0xad75160>]"
      ]
     },
     "execution_count": 190,
     "metadata": {},
     "output_type": "execute_result"
    },
    {
     "data": {
      "image/png": "[encoded data removed]",
      "text/plain": [
       "<matplotlib.figure.Figure at 0x81f50b8>"
      ]
     },
     "metadata": {},
     "output_type": "display_data"
    }
   ],
   "source": [
    "%pylab inline\n",
    "x=np.arange(0.1,100,0.001)\n",
    "y=np.sqrt(x)\n",
    "plot(x,y)\n",
    "y1=np.log(x)\n",
    "plot(x,y1)\n",
    "k=2\n",
    "y2=(k+1)*x/(x+k)\n",
    "plot(x,y2)\n"
   ]
  },
  {
   "cell_type": "code",
   "execution_count": 222,
   "metadata": {
    "collapsed": false
   },
   "outputs": [
    {
     "name": "stdout",
     "output_type": "stream",
     "text": [
      "Populating the interactive namespace from numpy and matplotlib\n"
     ]
    },
    {
     "data": {
      "text/plain": [
       "[<matplotlib.lines.Line2D at 0x153af048>]"
      ]
     },
     "execution_count": 222,
     "metadata": {},
     "output_type": "execute_result"
    },
    {
     "data": {
      "image/png": "[encoded data removed]",
      "text/plain": [
       "<matplotlib.figure.Figure at 0x11c37c88>"
      ]
     },
     "metadata": {},
     "output_type": "display_data"
    }
   ],
   "source": [
    "%pylab inline\n",
    "from numpy.random import randn\n",
    "x=np.arange(-1,1,0.01)\n",
    "#y=np.cos(x)\n",
    "#plot(x,y)\n",
    "#y1=np.sin(x)\n",
    "#plot(x,y1)\n",
    "#y2=sinh(x)\n",
    "#plot(x,y2)\n",
    "#y3=np.cosh(x)\n",
    "#plot(x,y3)\n",
    "#y4=np.exp(x)\n",
    "#plot(x,y4)\n",
    "#y5=np.tan(x)\n",
    "#plot(x,y5)\n",
    "#y6=np.tanh(x)\n",
    "#plot(x,y6)\n",
    "y7=np.arccos(x)\n",
    "plot(x,y7)"
   ]
  },
  {
   "cell_type": "code",
   "execution_count": 242,
   "metadata": {
    "collapsed": false,
    "scrolled": true
   },
   "outputs": [
    {
     "name": "stdout",
     "output_type": "stream",
     "text": [
      "[False False False False False False False False False False]\n",
      "[False False False  True  True False False  True  True  True]\n",
      "[ 1.  1.  1.  0.  0.  1.  1.  0.  0.  0.]\n"
     ]
    },
    {
     "ename": "TypeError",
     "evalue": "ufunc 'sqrt' output (typecode 'd') could not be coerced to provided output parameter (typecode 'l') according to the casting rule ''same_kind''",
     "output_type": "error",
     "traceback": [
      "\u001b[1;31m---------------------------------------------------------------------------\u001b[0m",
      "\u001b[1;31mTypeError\u001b[0m                                 Traceback (most recent call last)",
      "\u001b[1;32m<ipython-input-242-5298629777c2>\u001b[0m in \u001b[0;36m<module>\u001b[1;34m()\u001b[0m\n\u001b[0;32m     13\u001b[0m \u001b[1;33m\u001b[0m\u001b[0m\n\u001b[0;32m     14\u001b[0m \u001b[1;32mprint\u001b[0m \u001b[0mnp\u001b[0m\u001b[1;33m.\u001b[0m\u001b[0mfloor_divide\u001b[0m\u001b[1;33m(\u001b[0m\u001b[0mx1\u001b[0m\u001b[1;33m,\u001b[0m\u001b[0mx2\u001b[0m\u001b[1;33m)\u001b[0m\u001b[1;33m\u001b[0m\u001b[0m\n\u001b[1;32m---> 15\u001b[1;33m \u001b[0mz\u001b[0m\u001b[1;33m=\u001b[0m\u001b[0mnp\u001b[0m\u001b[1;33m.\u001b[0m\u001b[0msqrt\u001b[0m\u001b[1;33m(\u001b[0m\u001b[0mxs\u001b[0m\u001b[1;33m**\u001b[0m\u001b[1;36m2\u001b[0m\u001b[1;33m,\u001b[0m\u001b[0mys\u001b[0m\u001b[1;33m**\u001b[0m\u001b[1;36m2\u001b[0m\u001b[1;33m)\u001b[0m\u001b[1;33m\u001b[0m\u001b[0m\n\u001b[0m",
      "\u001b[1;31mTypeError\u001b[0m: ufunc 'sqrt' output (typecode 'd') could not be coerced to provided output parameter (typecode 'l') according to the casting rule ''same_kind''"
     ]
    },
    {
     "data": {
      "image/png": "[encoded data removed]",
      "text/plain": [
       "<matplotlib.figure.Figure at 0x16e2f0b8>"
      ]
     },
     "metadata": {},
     "output_type": "display_data"
    }
   ],
   "source": [
    "x1=np.fabs(randn(10))\n",
    "x2=np.fabs(randn(10))\n",
    "x=arange(0,10)\n",
    "plot(x,x1)\n",
    "plot(x,x2)\n",
    "y=add(x1,x2)\n",
    "y=x1+x2\n",
    "plot(x,y)\n",
    "y1=maximum(x1,x2)\n",
    "plot(x,y1)\n",
    "print np.equal(x1,x2)\n",
    "print np.less(x1,x2)\n",
    "\n",
    "print np.floor_divide(x1,x2)\n",
    "z=np.sqrt(xs**2,ys**2)"
   ]
  },
  {
   "cell_type": "code",
   "execution_count": 249,
   "metadata": {
    "collapsed": false
   },
   "outputs": [
    {
     "name": "stdout",
     "output_type": "stream",
     "text": [
      "[array([[-5, -4, -3, -2, -1,  0,  1,  2,  3,  4],\n",
      "       [-5, -4, -3, -2, -1,  0,  1,  2,  3,  4],\n",
      "       [-5, -4, -3, -2, -1,  0,  1,  2,  3,  4],\n",
      "       [-5, -4, -3, -2, -1,  0,  1,  2,  3,  4],\n",
      "       [-5, -4, -3, -2, -1,  0,  1,  2,  3,  4],\n",
      "       [-5, -4, -3, -2, -1,  0,  1,  2,  3,  4],\n",
      "       [-5, -4, -3, -2, -1,  0,  1,  2,  3,  4],\n",
      "       [-5, -4, -3, -2, -1,  0,  1,  2,  3,  4],\n",
      "       [-5, -4, -3, -2, -1,  0,  1,  2,  3,  4],\n",
      "       [-5, -4, -3, -2, -1,  0,  1,  2,  3,  4]]), array([[-5, -5, -5, -5, -5, -5, -5, -5, -5, -5],\n",
      "       [-4, -4, -4, -4, -4, -4, -4, -4, -4, -4],\n",
      "       [-3, -3, -3, -3, -3, -3, -3, -3, -3, -3],\n",
      "       [-2, -2, -2, -2, -2, -2, -2, -2, -2, -2],\n",
      "       [-1, -1, -1, -1, -1, -1, -1, -1, -1, -1],\n",
      "       [ 0,  0,  0,  0,  0,  0,  0,  0,  0,  0],\n",
      "       [ 1,  1,  1,  1,  1,  1,  1,  1,  1,  1],\n",
      "       [ 2,  2,  2,  2,  2,  2,  2,  2,  2,  2],\n",
      "       [ 3,  3,  3,  3,  3,  3,  3,  3,  3,  3],\n",
      "       [ 4,  4,  4,  4,  4,  4,  4,  4,  4,  4]])]\n"
     ]
    },
    {
     "data": {
      "text/plain": [
       "<matplotlib.text.Text at 0x1787d6d8>"
      ]
     },
     "execution_count": 249,
     "metadata": {},
     "output_type": "execute_result"
    },
    {
     "data": {
      "image/png": "[encoded data removed]",
      "text/plain": [
       "<matplotlib.figure.Figure at 0x17301978>"
      ]
     },
     "metadata": {},
     "output_type": "display_data"
    }
   ],
   "source": [
    "points=np.arange(-5,5,1)\n",
    "xs,ys=np.meshgrid(points,points)\n",
    "print np.meshgrid(points,points)\n",
    "z=np.sqrt(xs**2+ys**2)\n",
    "imshow(z,cmap=plt.cm.gray)\n",
    "plt.colorbar()\n",
    "plt.title('hah')\n"
   ]
  },
  {
   "cell_type": "code",
   "execution_count": 251,
   "metadata": {
    "collapsed": false
   },
   "outputs": [
    {
     "name": "stdout",
     "output_type": "stream",
     "text": [
      "[[-2  2  2 -2]\n",
      " [-2 -2  2  2]\n",
      " [ 2  2  2  2]\n",
      " [ 2  2 -2 -2]]\n"
     ]
    }
   ],
   "source": [
    "arr=randn(4,4)\n",
    "print np.where(arr<0,-2,2)\n",
    " "
   ]
  },
  {
   "cell_type": "code",
   "execution_count": 256,
   "metadata": {
    "collapsed": false
   },
   "outputs": [
    {
     "name": "stdout",
     "output_type": "stream",
     "text": [
      "Help on built-in function binomial:\n",
      "\n",
      "binomial(...)\n",
      "    binomial(n, p, size=None)\n",
      "    \n",
      "    Draw samples from a binomial distribution.\n",
      "    \n",
      "    Samples are drawn from a binomial distribution with specified\n",
      "    parameters, n trials and p probability of success where\n",
      "    n an integer >= 0 and p is in the interval [0,1]. (n may be\n",
      "    input as a float, but it is truncated to an integer in use)\n",
      "    \n",
      "    Parameters\n",
      "    ----------\n",
      "    n : float (but truncated to an integer)\n",
      "            parameter, >= 0.\n",
      "    p : float\n",
      "            parameter, >= 0 and <=1.\n",
      "    size : int or tuple of ints, optional\n",
      "        Output shape.  If the given shape is, e.g., ``(m, n, k)``, then\n",
      "        ``m * n * k`` samples are drawn.  Default is None, in which case a\n",
      "        single value is returned.\n",
      "    \n",
      "    Returns\n",
      "    -------\n",
      "    samples : ndarray or scalar\n",
      "              where the values are all integers in  [0, n].\n",
      "    \n",
      "    See Also\n",
      "    --------\n",
      "    scipy.stats.distributions.binom : probability density function,\n",
      "        distribution or cumulative density function, etc.\n",
      "    \n",
      "    Notes\n",
      "    -----\n",
      "    The probability density for the binomial distribution is\n",
      "    \n",
      "    .. math:: P(N) = \\binom{n}{N}p^N(1-p)^{n-N},\n",
      "    \n",
      "    where :math:`n` is the number of trials, :math:`p` is the probability\n",
      "    of success, and :math:`N` is the number of successes.\n",
      "    \n",
      "    When estimating the standard error of a proportion in a population by\n",
      "    using a random sample, the normal distribution works well unless the\n",
      "    product p*n <=5, where p = population proportion estimate, and n =\n",
      "    number of samples, in which case the binomial distribution is used\n",
      "    instead. For example, a sample of 15 people shows 4 who are left\n",
      "    handed, and 11 who are right handed. Then p = 4/15 = 27%. 0.27*15 = 4,\n",
      "    so the binomial distribution should be used in this case.\n",
      "    \n",
      "    References\n",
      "    ----------\n",
      "    .. [1] Dalgaard, Peter, \"Introductory Statistics with R\",\n",
      "           Springer-Verlag, 2002.\n",
      "    .. [2] Glantz, Stanton A. \"Primer of Biostatistics.\", McGraw-Hill,\n",
      "           Fifth Edition, 2002.\n",
      "    .. [3] Lentner, Marvin, \"Elementary Applied Statistics\", Bogden\n",
      "           and Quigley, 1972.\n",
      "    .. [4] Weisstein, Eric W. \"Binomial Distribution.\" From MathWorld--A\n",
      "           Wolfram Web Resource.\n",
      "           http://mathworld.wolfram.com/BinomialDistribution.html\n",
      "    .. [5] Wikipedia, \"Binomial-distribution\",\n",
      "           http://en.wikipedia.org/wiki/Binomial_distribution\n",
      "    \n",
      "    Examples\n",
      "    --------\n",
      "    Draw samples from the distribution:\n",
      "    \n",
      "    >>> n, p = 10, .5  # number of trials, probability of each trial\n",
      "    >>> s = np.random.binomial(n, p, 1000)\n",
      "    # result of flipping a coin 10 times, tested 1000 times.\n",
      "    \n",
      "    A real world example. A company drills 9 wild-cat oil exploration\n",
      "    wells, each with an estimated probability of success of 0.1. All nine\n",
      "    wells fail. What is the probability of that happening?\n",
      "    \n",
      "    Let's do 20,000 trials of the model, and count the number that\n",
      "    generate zero positive results.\n",
      "    \n",
      "    >>> sum(np.random.binomial(9, 0.1, 20000) == 0)/20000.\n",
      "    # answer = 0.38885, or 38%.\n",
      "\n"
     ]
    }
   ],
   "source": [
    "help(binomial)"
   ]
  },
  {
   "cell_type": "code",
   "execution_count": 272,
   "metadata": {
    "collapsed": false
   },
   "outputs": [
    {
     "name": "stdout",
     "output_type": "stream",
     "text": [
      "(1000L,)\n",
      "0.833\n"
     ]
    }
   ],
   "source": [
    "a=binomial(2,0.6,1000)\n",
    "print a.shape\n",
    "print (a>0).sum()/1000.0"
   ]
  }
 ],
 "metadata": {
  "kernelspec": {
   "display_name": "Python 2",
   "language": "python",
   "name": "python2"
  },
  "language_info": {
   "codemirror_mode": {
    "name": "ipython",
    "version": 2
   },
   "file_extension": ".py",
   "mimetype": "text/x-python",
   "name": "python",
   "nbconvert_exporter": "python",
   "pygments_lexer": "ipython2",
   "version": "2.7.11"
  }
 },
 "nbformat": 4,
 "nbformat_minor": 0
}
