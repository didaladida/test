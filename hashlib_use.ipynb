{
 "cells": [
  {
   "cell_type": "code",
   "execution_count": 6,
   "metadata": {
    "collapsed": false
   },
   "outputs": [
    {
     "name": "stdout",
     "output_type": "stream",
     "text": [
      "bb649c83dd1ea5c9d9dec9a18df0ffe9\n",
      "64\n",
      "md5\n",
      "16\n",
      "16\n"
     ]
    }
   ],
   "source": [
    "import hashlib\n",
    "m=hashlib.md5()\n",
    "s='Nobody inspects the spammish repetition'\n",
    "m.update(s)\n",
    "print m.hexdigest()\n",
    "print m.block_size\n",
    "print m.name\n",
    "print m.digestsize\n",
    "print m.digest_size\n"
   ]
  },
  {
   "cell_type": "code",
   "execution_count": 17,
   "metadata": {
    "collapsed": false
   },
   "outputs": [
    {
     "name": "stdout",
     "output_type": "stream",
     "text": [
      "bb649c83dd1ea5c9d9dec9a18df0ffe9\n",
      "md5\n",
      "bb649c83dd1ea5c9d9dec9a18df0ffe9\n"
     ]
    }
   ],
   "source": [
    "#调用所有，但是效率不高\n",
    "h = hashlib.new('md5')\n",
    "h.update(\"Nobody inspects the spammish repetition\")\n",
    "print h.hexdigest()\n",
    "print h.name\n",
    "h1= hashlib.new('md5')\n",
    "h1.update('Nobody')\n",
    "# 这个在有公共前缀时很有用\n",
    "h2=h1.copy()\n",
    "# m.update(a); m.update(b) is equivalent to m.update(a+b)\n",
    "h2.update(' inspects the spammish repetition')\n",
    "print h2.hexdigest()"
   ]
  },
  {
   "cell_type": "code",
   "execution_count": 14,
   "metadata": {
    "collapsed": false
   },
   "outputs": [
    {
     "name": "stdout",
     "output_type": "stream",
     "text": [
      "('md5', 'sha1', 'sha224', 'sha256', 'sha384', 'sha512')\n",
      "set(['sha1', 'sha224', 'sha384', 'sha256', 'sha512', 'md5'])\n",
      "set(['SHA1', 'SHA224', 'SHA', 'SHA384', 'ecdsa-with-SHA1', 'SHA256', 'SHA512', 'md4', 'md5', 'sha1', 'dsaWithSHA', 'DSA-SHA', 'sha224', 'dsaEncryption', 'DSA', 'ripemd160', 'sha', 'MD5', 'MD4', 'sha384', 'sha256', 'sha512', 'RIPEMD160', 'whirlpool'])\n"
     ]
    }
   ],
   "source": [
    "#A tuple providing the names of the hash algorithms guaranteed to be supported by this module\n",
    "print hashlib.algorithms\n",
    "#挂平台支持\n",
    "print hashlib.algorithms_guaranteed\n",
    "#A set containing the names of the hash algorithms that are available in the running Python interpreter\n",
    "print hashlib.algorithms_available"
   ]
  }
 ],
 "metadata": {
  "kernelspec": {
   "display_name": "Python 2",
   "language": "python",
   "name": "python2"
  },
  "language_info": {
   "codemirror_mode": {
    "name": "ipython",
    "version": 2
   },
   "file_extension": ".py",
   "mimetype": "text/x-python",
   "name": "python",
   "nbconvert_exporter": "python",
   "pygments_lexer": "ipython2",
   "version": "2.7.11"
  }
 },
 "nbformat": 4,
 "nbformat_minor": 0
}
