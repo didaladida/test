{
 "cells": [
  {
   "cell_type": "code",
   "execution_count": 25,
   "metadata": {
    "collapsed": false
   },
   "outputs": [
    {
     "name": "stdout",
     "output_type": "stream",
     "text": [
      "   S  k\n",
      "0  2  1\n",
      "1  2  1\n",
      "2  2  2\n",
      "3  1  2\n",
      "S    object\n",
      "k    object\n",
      "dtype: object\n",
      "0    False\n",
      "1     True\n",
      "2     True\n",
      "3    False\n",
      "dtype: bool\n",
      "<class 'pandas.core.series.Series'>\n",
      "   S  k\n",
      "0  2  1\n",
      "2  2  2\n",
      "3  1  2\n"
     ]
    },
    {
     "data": {
      "text/plain": [
       "0    21\n",
       "2    22\n",
       "3    12\n",
       "dtype: object"
      ]
     },
     "execution_count": 25,
     "metadata": {},
     "output_type": "execute_result"
    }
   ],
   "source": [
    "import numpy as np\n",
    "from pandas import Series, DataFrame\n",
    "\n",
    "def add(s):\n",
    "    return s[0]+s[1]\n",
    "\n",
    "data = DataFrame({'k': [1, 1, '2', 2],'S':[2,2,2,1]})\n",
    "\n",
    "print data\n",
    "data[['k','S']]=data[['k','S']].astype(np.str_)\n",
    "print data.dtypes\n",
    "\n",
    "IsDuplicated = data.duplicated(['S'])\n",
    "\n",
    "print IsDuplicated\n",
    "print type(IsDuplicated)\n",
    "\n",
    "data = data.drop_duplicates(['k','S'])\n",
    "print data\n",
    "data.apply(add,axis=1)\n",
    "\n"
   ]
  },
  {
   "cell_type": "code",
   "execution_count": 10,
   "metadata": {
    "collapsed": false
   },
   "outputs": [
    {
     "data": {
      "text/plain": [
       "[2, 3]"
      ]
     },
     "execution_count": 10,
     "metadata": {},
     "output_type": "execute_result"
    }
   ],
   "source": [
    "a=[1,2,3]\n",
    "a.pop(0)\n",
    "a"
   ]
  },
  {
   "cell_type": "code",
   "execution_count": 29,
   "metadata": {
    "collapsed": false
   },
   "outputs": [
    {
     "name": "stdout",
     "output_type": "stream",
     "text": [
      "no\n",
      "('2112312', '2')\n",
      "2\n"
     ]
    }
   ],
   "source": [
    "import re\n",
    "pat=re.compile('((2)[0-9]{2,13})')\n",
    "if type(22) is str:\n",
    "    print 'yes'\n",
    "else:\n",
    "    print 'no'\n",
    "m=pat.match(str(2112312))\n",
    "print m.groups()\n",
    "if m:\n",
    "    print m.group(2)\n",
    "else:\n",
    "    print 'not match'"
   ]
  },
  {
   "cell_type": "code",
   "execution_count": null,
   "metadata": {
    "collapsed": true
   },
   "outputs": [],
   "source": []
  }
 ],
 "metadata": {
  "kernelspec": {
   "display_name": "Python 2",
   "language": "python",
   "name": "python2"
  },
  "language_info": {
   "codemirror_mode": {
    "name": "ipython",
    "version": 2
   },
   "file_extension": ".py",
   "mimetype": "text/x-python",
   "name": "python",
   "nbconvert_exporter": "python",
   "pygments_lexer": "ipython2",
   "version": "2.7.11"
  }
 },
 "nbformat": 4,
 "nbformat_minor": 0
}
