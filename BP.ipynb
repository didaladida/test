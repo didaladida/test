{
 "cells": [
  {
   "cell_type": "code",
   "execution_count": 1,
   "metadata": {
    "collapsed": false
   },
   "outputs": [
    {
     "name": "stdout",
     "output_type": "stream",
     "text": [
      "0 : 138.030819428\n",
      "5 : 28.4675383142\n",
      "10 : 18.733609665\n",
      "15 : 14.4989870252\n",
      "20 : 11.5954465216\n",
      "25 : 9.77293632421\n",
      "30 : 8.65319620747\n",
      "35 : 7.90692961449\n",
      "40 : 7.38349857757\n",
      "45 : 7.00121467597\n",
      "50 : 6.70544089715\n",
      "55 : 6.45980159255\n",
      "60 : 6.24130346171\n",
      "65 : 6.03639481494\n",
      "70 : 5.83798596119\n",
      "75 : 5.6433368848\n",
      "80 : 5.45247581028\n",
      "85 : 5.26703450246\n",
      "90 : 5.08961375144\n",
      "95 : 4.92328500946\n",
      "0.99\n"
     ]
    }
   ],
   "source": [
    "import numpy as np\n",
    "import codecs\n",
    "\n",
    "class NN(object):\n",
    "    \"\"\"ni,nh,no,Wi,Wh,ai,ah,ao\n",
    "        为啥准确率会有变动\n",
    "    \"\"\"\n",
    "\n",
    "    def __init__(self, ni, nh, no):\n",
    "        # 各层神经元个数\n",
    "        self.ni = ni  #偏置已经在训练集加入，多加一个 1\n",
    "        self.nh = nh\n",
    "        self.no = no\n",
    "        # 三个列向量\n",
    "        self.ai = np.mat(np.ones(ni)).T\n",
    "        self.ah = np.mat(np.ones(nh)).T\n",
    "        self.ao = np.mat(np.ones(no)).T\n",
    "        # 系数矩阵\n",
    "        self.WI = np.random.rand(nh, ni) * 4 - 2\n",
    "        self.WH = np.random.rand(no, nh) * 4 - 2\n",
    "        self.preWI = np.random.rand(nh, ni) * 4 - 2\n",
    "        self.preWH = np.random.rand(no, nh) * 4 - 2\n",
    "        \n",
    "\n",
    "    def update(self, inputs):\n",
    "        \"\"\"计算输入到输出\"\"\"\n",
    "        self.ai = np.mat(inputs).T\n",
    "        self.ah = self.__sigmoid(self.WI * self.ai)\n",
    "        self.ao = self.__sigmoid(self.WH * self.ah)\n",
    "        return self.ao\n",
    "\n",
    "    def back_pro(self, targets, alpha, beta):\n",
    "        \"\"\"numpy  反向传播\"\"\"\n",
    "        targets = np.mat(targets).T\n",
    "        # 计算变化量\n",
    "        delta_output = np.multiply(np.multiply(\n",
    "            self.ao, (1 - self.ao)), (targets - self.ao))\n",
    "        delta_hidden = np.multiply(np.multiply(\n",
    "            self.ah, (1 - self.ah)), self.WH.T * delta_output)\n",
    "        # 更新权重矩阵\n",
    "        self.WH = self.WH + alpha * delta_output * self.ah.T + beta * self.preWH\n",
    "        self.preWH = delta_output * self.ah.T\n",
    "        self.WI = self.WI + alpha * delta_hidden * self.ai.T + beta * self.preWI\n",
    "        self.preWI = delta_hidden * self.ai.T\n",
    "        error = 0.5 * \\\n",
    "            np.sum(np.multiply((self.ao - targets), (self.ao - targets)))\n",
    "        return error\n",
    "\n",
    "    def train(self, X, Y, MAX_ITR=100, alpha=0.5, beta=0.1):\n",
    "        \"\"\"训练\"\"\"\n",
    "        for t in xrange(MAX_ITR):\n",
    "            err=0\n",
    "            for k in range(X.shape[0]):\n",
    "                self.update(X[k, :])\n",
    "                err+=self.back_pro(Y[k, :], alpha, beta)\n",
    "            if t%5==0:\n",
    "                print t,':',err\n",
    "    def batch_train(self, X, Y, MAX_ITR=100, alpha=0.5, beta=0.1):\n",
    "        \"\"\"不能使误差变小\"\"\"\n",
    "        for t in xrange(MAX_ITR):\n",
    "            err=0\n",
    "            #for k in range(X.shape[0]):\n",
    "            self.update(X)\n",
    "            err=self.back_pro(Y, alpha, beta)\n",
    "            if t%5==0:\n",
    "                print t,':',err\n",
    "    def test(self, X, Y):\n",
    "        cntall = 0\n",
    "        cntright = 0\n",
    "        for i in range(X.shape[0]):\n",
    "            cntall += 1\n",
    "            pre = self.update(X[i])\n",
    "            pre[pre > 0.5] = 1\n",
    "            pre[pre <= 0.5] = 0\n",
    "            # print pre.T\n",
    "            if (pre.T - Y[i, :]).sum()==0:           \n",
    "                cntright += 1\n",
    "        print cntright / np.float64(cntall)\n",
    "\n",
    "    def __sigmoid(self, X):\n",
    "        return 1 / (1 + np.exp(-X))\n",
    "\n",
    "def prepare_data_1():\n",
    "    \"\"\"异或关系学习\"\"\"\n",
    "    X =np.array([\n",
    "        [0, 0,1],\n",
    "        [0, 1,1],\n",
    "        [1, 0,1],\n",
    "        [1, 1,1]\n",
    "    ])\n",
    "    Y=np.array([\n",
    "        [0, 1],\n",
    "        [ 0,1],\n",
    "        [ 0,1],\n",
    "        [ 0,1]\n",
    "    ])\n",
    "    return X,Y\n",
    "\n",
    "\n",
    "\n",
    "def prepare_data(filepath):\n",
    "    infp = codecs.open(filepath, 'r', 'utf-8')\n",
    "    retX = []\n",
    "    retY = []\n",
    "    for line in infp:\n",
    "        if not line.strip():\n",
    "            continue\n",
    "        X, Y = line.strip().split('>')\n",
    "        X = [np.float64(x) for x in X.split()]\n",
    "        Y = [np.float64(x) for x in Y.split()]\n",
    "        X.append(1.0)   #加偏置\n",
    "        retX.append(X)\n",
    "        retY.append(Y)\n",
    "    return np.mat(retX), np.mat(retY)\n",
    "#异或学习自测\n",
    "#X, Y = prepare_data_1()\n",
    "#neu = NN(X.shape[1], 10, Y.shape[1])\n",
    "#neu.train(X[0:4, :], Y[0:4, :])\n",
    "#neu.test(X[0:4, :], Y[0:4, :])\n",
    "#代码类别检测学习\n",
    "X,Y=prepare_data('testdata.1k')\n",
    "neu = NN(X.shape[1], 20, Y.shape[1])\n",
    "neu.train(X[0:900, :], Y[0:900, :])\n",
    "neu.test(X[900:1000, :], Y[900:1000, :])\n"
   ]
  },
  {
   "cell_type": "code",
   "execution_count": null,
   "metadata": {
    "collapsed": false
   },
   "outputs": [],
   "source": []
  },
  {
   "cell_type": "code",
   "execution_count": 16,
   "metadata": {
    "collapsed": false
   },
   "outputs": [
    {
     "name": "stdout",
     "output_type": "stream",
     "text": [
      "Populating the interactive namespace from numpy and matplotlib\n"
     ]
    },
    {
     "data": {
      "text/plain": [
       "[<matplotlib.lines.Line2D at 0x7e70ac8>]"
      ]
     },
     "execution_count": 16,
     "metadata": {},
     "output_type": "execute_result"
    },
    {
     "data": {
      "image/png": "[encoded data removed]",
      "text/plain": [
       "<matplotlib.figure.Figure at 0x28d0cf8>"
      ]
     },
     "metadata": {},
     "output_type": "display_data"
    }
   ],
   "source": [
    "%pylab inline\n",
    "x=np.arange(-10,10,0.1)\n",
    "yy=1/(1+np.exp(-x))\n",
    "y=0.5*(np.tanh(.5*x)+1)\n",
    "#print x,y\n",
    "scatter(x,yy)\n",
    "y[y>0.5] =1\n",
    "y[y<=0.5]=0\n",
    "plot(x,y)"
   ]
  }
 ],
 "metadata": {
  "kernelspec": {
   "display_name": "Python 2",
   "language": "python",
   "name": "python2"
  },
  "language_info": {
   "codemirror_mode": {
    "name": "ipython",
    "version": 2
   },
   "file_extension": ".py",
   "mimetype": "text/x-python",
   "name": "python",
   "nbconvert_exporter": "python",
   "pygments_lexer": "ipython2",
   "version": "2.7.11"
  }
 },
 "nbformat": 4,
 "nbformat_minor": 0
}
